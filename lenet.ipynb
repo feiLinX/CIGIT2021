{
 "cells": [
  {
   "cell_type": "code",
   "execution_count": 1,
   "id": "49101429",
   "metadata": {},
   "outputs": [],
   "source": [
    "import torch\n",
    "from torch import nn"
   ]
  },
  {
   "cell_type": "code",
   "execution_count": 56,
   "id": "c2c3fbbb",
   "metadata": {},
   "outputs": [],
   "source": [
    "class Lenet5(nn.Module):\n",
    "\n",
    "    def __init__(self):\n",
    "        super(Lenet5, self).__init__()\n",
    "\n",
    "        self.conv_unit = nn.Sequential(\n",
    "            # x: [b, 1, 405, 10] => [b, 32,\n",
    "            nn.Conv2d(1, 16, kernel_size=3, stride=1, padding=0),\n",
    "            nn.MaxPool2d(kernel_size=3, stride=2, padding=0),\n",
    "            #\n",
    "            nn.Conv2d(16, 32, kernel_size=3, stride=1, padding=0),\n",
    "            nn.MaxPool2d(kernel_size=1, stride=1, padding=0),\n",
    "            #\n",
    "        )\n",
    "        # flatten\n",
    "        # fc unit\n",
    "        self.fc_unit = nn.Sequential(\n",
    "            nn.Linear(32 * 199 * 1, 512),\n",
    "            nn.ReLU(),\n",
    "            nn.Linear(512, 128),\n",
    "            nn.ReLU(),\n",
    "            nn.Linear(128, 10),\n",
    "            nn.ReLU(),\n",
    "            nn.Linear(10,2)\n",
    "        )\n",
    "\n",
    "    def forward(self, x):\n",
    "        batchsz = x.size(0)\n",
    "\n",
    "        x = self.conv_unit(x)\n",
    "\n",
    "        x = x.view(batchsz, 32 * 199 * 1)\n",
    "\n",
    "        logits = self.fc_unit(x)\n",
    "\n",
    "        return logits"
   ]
  },
  {
   "cell_type": "code",
   "execution_count": 57,
   "id": "3bea1311",
   "metadata": {},
   "outputs": [],
   "source": [
    "def main():\n",
    "    net = Lenet5()\n",
    "\n",
    "    tmp = torch.randn(2, 1, 405, 10)\n",
    "    out = net(tmp)\n",
    "    print('lenet out:', out.shape)"
   ]
  },
  {
   "cell_type": "code",
   "execution_count": 58,
   "id": "1065e5f4",
   "metadata": {},
   "outputs": [
    {
     "name": "stdout",
     "output_type": "stream",
     "text": [
      "lenet out: torch.Size([2, 2])\n"
     ]
    }
   ],
   "source": [
    "if __name__ == '__main__':\n",
    "    main()"
   ]
  },
  {
   "cell_type": "code",
   "execution_count": null,
   "id": "13465af5",
   "metadata": {},
   "outputs": [],
   "source": []
  }
 ],
 "metadata": {
  "kernelspec": {
   "display_name": "Python 3",
   "language": "python",
   "name": "python3"
  },
  "language_info": {
   "codemirror_mode": {
    "name": "ipython",
    "version": 3
   },
   "file_extension": ".py",
   "mimetype": "text/x-python",
   "name": "python",
   "nbconvert_exporter": "python",
   "pygments_lexer": "ipython3",
   "version": "3.8.5"
  },
  "latex_envs": {
   "LaTeX_envs_menu_present": true,
   "autoclose": false,
   "autocomplete": true,
   "bibliofile": "biblio.bib",
   "cite_by": "apalike",
   "current_citInitial": 1,
   "eqLabelWithNumbers": true,
   "eqNumInitial": 1,
   "hotkeys": {
    "equation": "Ctrl-E",
    "itemize": "Ctrl-I"
   },
   "labels_anchors": false,
   "latex_user_defs": false,
   "report_style_numbering": false,
   "user_envs_cfg": false
  },
  "varInspector": {
   "cols": {
    "lenName": 16,
    "lenType": 16,
    "lenVar": 40
   },
   "kernels_config": {
    "python": {
     "delete_cmd_postfix": "",
     "delete_cmd_prefix": "del ",
     "library": "var_list.py",
     "varRefreshCmd": "print(var_dic_list())"
    },
    "r": {
     "delete_cmd_postfix": ") ",
     "delete_cmd_prefix": "rm(",
     "library": "var_list.r",
     "varRefreshCmd": "cat(var_dic_list()) "
    }
   },
   "types_to_exclude": [
    "module",
    "function",
    "builtin_function_or_method",
    "instance",
    "_Feature"
   ],
   "window_display": false
  }
 },
 "nbformat": 4,
 "nbformat_minor": 5
}
