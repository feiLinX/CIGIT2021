{
 "cells": [
  {
   "cell_type": "code",
   "execution_count": 5,
   "id": "7bffa0c5",
   "metadata": {},
   "outputs": [],
   "source": [
    "import numpy as np\n",
    "import csv\n",
    "import os\n",
    "from math import sin, asin, cos, radians, fabs, sqrt\n",
    "from matplotlib import pyplot as plt"
   ]
  },
  {
   "cell_type": "code",
   "execution_count": 1,
   "id": "2bc292b4",
   "metadata": {},
   "outputs": [],
   "source": [
    "ROOT = '/home/rick/PythonWorkplace/CIGIT2021'"
   ]
  },
  {
   "cell_type": "code",
   "execution_count": 3,
   "id": "c04b47e9",
   "metadata": {},
   "outputs": [],
   "source": [
    "name1 = 'dn2up.csv'\n",
    "name2 = 'up2dn.csv'"
   ]
  },
  {
   "cell_type": "code",
   "execution_count": 6,
   "id": "35906545",
   "metadata": {},
   "outputs": [],
   "source": [
    "data1 = os.path.join(ROOT, name1)\n",
    "data2 = os.path.join(ROOT, name2)"
   ]
  },
  {
   "cell_type": "code",
   "execution_count": 7,
   "id": "4dc8241d",
   "metadata": {},
   "outputs": [
    {
     "data": {
      "text/plain": [
       "'/home/rick/PythonWorkplace/CIGIT2021/dn2up.csv'"
      ]
     },
     "execution_count": 7,
     "metadata": {},
     "output_type": "execute_result"
    }
   ],
   "source": [
    "data1"
   ]
  },
  {
   "cell_type": "code",
   "execution_count": 14,
   "id": "b10ec7ae",
   "metadata": {},
   "outputs": [],
   "source": [
    "a = np.loadtxt(data1,delimiter=',',dtype='float64')"
   ]
  },
  {
   "cell_type": "code",
   "execution_count": 18,
   "id": "1618daff",
   "metadata": {},
   "outputs": [
    {
     "data": {
      "text/plain": [
       "0.0"
      ]
     },
     "execution_count": 18,
     "metadata": {},
     "output_type": "execute_result"
    }
   ],
   "source": [
    "a[0][1899]"
   ]
  },
  {
   "cell_type": "code",
   "execution_count": 55,
   "id": "f346efd2",
   "metadata": {},
   "outputs": [],
   "source": [
    "c = np.vstack((c,b))"
   ]
  },
  {
   "cell_type": "code",
   "execution_count": 56,
   "id": "1a7a826e",
   "metadata": {},
   "outputs": [
    {
     "data": {
      "text/plain": [
       "array([[2., 2., 2., 2., 2., 2., 2., 2.],\n",
       "       [2., 2., 2., 2., 2., 2., 2., 2.]])"
      ]
     },
     "execution_count": 56,
     "metadata": {},
     "output_type": "execute_result"
    }
   ],
   "source": [
    "c"
   ]
  },
  {
   "cell_type": "code",
   "execution_count": 21,
   "id": "64d83419",
   "metadata": {},
   "outputs": [
    {
     "data": {
      "text/plain": [
       "array([1., 1., 1., 1., 1., 1., 1., 1., 2., 2., 2., 2., 2., 2., 2., 2.])"
      ]
     },
     "execution_count": 21,
     "metadata": {},
     "output_type": "execute_result"
    }
   ],
   "source": [
    "c"
   ]
  },
  {
   "cell_type": "code",
   "execution_count": null,
   "id": "c0b1af5d",
   "metadata": {},
   "outputs": [],
   "source": [
    "x = np.empty(())"
   ]
  }
 ],
 "metadata": {
  "kernelspec": {
   "display_name": "Python 3",
   "language": "python",
   "name": "python3"
  },
  "language_info": {
   "codemirror_mode": {
    "name": "ipython",
    "version": 3
   },
   "file_extension": ".py",
   "mimetype": "text/x-python",
   "name": "python",
   "nbconvert_exporter": "python",
   "pygments_lexer": "ipython3",
   "version": "3.8.8"
  },
  "varInspector": {
   "cols": {
    "lenName": 16,
    "lenType": 16,
    "lenVar": 40
   },
   "kernels_config": {
    "python": {
     "delete_cmd_postfix": "",
     "delete_cmd_prefix": "del ",
     "library": "var_list.py",
     "varRefreshCmd": "print(var_dic_list())"
    },
    "r": {
     "delete_cmd_postfix": ") ",
     "delete_cmd_prefix": "rm(",
     "library": "var_list.r",
     "varRefreshCmd": "cat(var_dic_list()) "
    }
   },
   "position": {
    "height": "270.724px",
    "left": "1191px",
    "right": "20px",
    "top": "136.997px",
    "width": "480px"
   },
   "types_to_exclude": [
    "module",
    "function",
    "builtin_function_or_method",
    "instance",
    "_Feature"
   ],
   "window_display": true
  }
 },
 "nbformat": 4,
 "nbformat_minor": 5
}
