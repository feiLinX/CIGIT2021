{
 "cells": [
  {
   "cell_type": "code",
   "execution_count": 1,
   "id": "7bffa0c5",
   "metadata": {},
   "outputs": [],
   "source": [
    "import numpy as np\n",
    "import csv\n",
    "import os\n",
    "from math import sin, asin, cos, radians, fabs, sqrt\n",
    "from matplotlib import pyplot as plt"
   ]
  },
  {
   "cell_type": "code",
   "execution_count": 2,
   "id": "2bc292b4",
   "metadata": {},
   "outputs": [],
   "source": [
    "ROOT = '/home/rick/PythonWorkplace/CIGIT2021'"
   ]
  },
  {
   "cell_type": "code",
   "execution_count": 3,
   "id": "c04b47e9",
   "metadata": {},
   "outputs": [],
   "source": [
    "data_name1 = 'dn2up.csv'\n",
    "data_name2 = 'up2dn.csv'\n",
    "label_name1 = 'dn2up_stop&signal.csv'\n",
    "label_name2 = 'up2dn_stop&signal.csv'"
   ]
  },
  {
   "cell_type": "code",
   "execution_count": 4,
   "id": "35906545",
   "metadata": {},
   "outputs": [],
   "source": [
    "data_path1 = os.path.join(ROOT, data_name1)    # dn2up\n",
    "data_path2 = os.path.join(ROOT, data_name2)    # up2dn\n",
    "label_path1 = os.path.join(ROOT, label_name1)  # dn2up\n",
    "label_path2 = os.path.join(ROOT, label_name2)  # up2dn "
   ]
  },
  {
   "cell_type": "code",
   "execution_count": 173,
   "id": "b10ec7ae",
   "metadata": {},
   "outputs": [],
   "source": [
    "dn2up_data = np.loadtxt(data_path1,delimiter=',',dtype='float64')\n",
    "dn2up_data = dn2up_data[:,:-10]\n",
    "\n",
    "up2dn_data = np.loadtxt(data_path2,delimiter=',',dtype='float64')\n",
    "up2dn_data = up2dn_data[:,:-10]"
   ]
  },
  {
   "cell_type": "code",
   "execution_count": 32,
   "id": "870e474a",
   "metadata": {},
   "outputs": [],
   "source": [
    "dn2up_label = np.loadtxt(label_path1,delimiter=',',dtype='int')\n",
    "dn2up_label = dn2up_label.T\n",
    "\n",
    "up2dn_label = np.loadtxt(label_path2,delimiter=',',dtype='int')\n",
    "up2dn_label = up2dn_label.T"
   ]
  },
  {
   "cell_type": "markdown",
   "id": "aabdc82c",
   "metadata": {},
   "source": [
    "# Extract features"
   ]
  },
  {
   "cell_type": "code",
   "execution_count": 64,
   "id": "b8827c89",
   "metadata": {},
   "outputs": [],
   "source": [
    "from scipy import stats"
   ]
  },
  {
   "cell_type": "code",
   "execution_count": 145,
   "id": "6c019da3",
   "metadata": {},
   "outputs": [],
   "source": [
    "def percentile(x, percent):\n",
    "    out = np.zeros(len(x[0]))\n",
    "    count = 0\n",
    "    y = x.T\n",
    "    p = percent / 100\n",
    "    for row in y:\n",
    "        tmp = np.sort(row)\n",
    "        location = int(len(row) * p)\n",
    "        speed = tmp[location - 1]\n",
    "        out[count] = speed\n",
    "        count += 1\n",
    "    return out"
   ]
  },
  {
   "cell_type": "code",
   "execution_count": 174,
   "id": "1618daff",
   "metadata": {},
   "outputs": [],
   "source": [
    "f1_dn2up = np.mean(dn2up_data,0)\n",
    "f1_up2dn = np.mean(up2dn_data,0)"
   ]
  },
  {
   "cell_type": "code",
   "execution_count": 175,
   "id": "f346efd2",
   "metadata": {},
   "outputs": [],
   "source": [
    "f2_dn2up = np.std(dn2up_data,0)\n",
    "f2_up2dn = np.std(up2dn_data,0)"
   ]
  },
  {
   "cell_type": "code",
   "execution_count": 176,
   "id": "1a7a826e",
   "metadata": {},
   "outputs": [],
   "source": [
    "f3_dn2up = np.abs(stats.skew(dn2up_data,0))\n",
    "f3_up2dn = np.abs(stats.skew(up2dn_data,0))"
   ]
  },
  {
   "cell_type": "code",
   "execution_count": 177,
   "id": "64d83419",
   "metadata": {},
   "outputs": [],
   "source": [
    "f4_dn2up = np.abs(stats.kurtosis(dn2up_data,0))\n",
    "f4_up2dn = np.abs(stats.kurtosis(up2dn_data,0))"
   ]
  },
  {
   "cell_type": "code",
   "execution_count": 178,
   "id": "c0b1af5d",
   "metadata": {},
   "outputs": [],
   "source": [
    "f5_dn2up = (f3_dn2up ** 2 + 1) / f4_dn2up\n",
    "f5_up2dn = (f3_up2dn ** 2 + 1) / f4_up2dn"
   ]
  },
  {
   "cell_type": "code",
   "execution_count": 179,
   "id": "638992a2",
   "metadata": {},
   "outputs": [],
   "source": [
    "f6_dn2up = np.median(dn2up_data,0)\n",
    "f6_up2dn = np.median(up2dn_data,0)"
   ]
  },
  {
   "cell_type": "code",
   "execution_count": 180,
   "id": "0682696f",
   "metadata": {},
   "outputs": [],
   "source": [
    "f7_dn2up = percentile(dn2up_data,15)\n",
    "f7_up2dn = percentile(up2dn_data,15)"
   ]
  },
  {
   "cell_type": "code",
   "execution_count": 181,
   "id": "e68d4965",
   "metadata": {},
   "outputs": [],
   "source": [
    "f8_dn2up = percentile(dn2up_data,85)\n",
    "f8_up2dn = percentile(up2dn_data,85)"
   ]
  },
  {
   "cell_type": "code",
   "execution_count": 182,
   "id": "867dc672",
   "metadata": {},
   "outputs": [],
   "source": [
    "f9_dn2up = f8_dn2up - f7_dn2up\n",
    "f9_up2dn = f8_up2dn - f7_up2dn"
   ]
  },
  {
   "cell_type": "code",
   "execution_count": 183,
   "id": "1dd1c3b6",
   "metadata": {},
   "outputs": [],
   "source": [
    "f10_dn2up = np.max(dn2up_data,0)\n",
    "f10_up2dn = np.max(up2dn_data,0)"
   ]
  },
  {
   "cell_type": "code",
   "execution_count": 184,
   "id": "1546db26",
   "metadata": {},
   "outputs": [],
   "source": [
    "f11_dn2up = np.min(dn2up_data,0)\n",
    "f11_up2dn = np.min(up2dn_data,0)"
   ]
  },
  {
   "cell_type": "code",
   "execution_count": 187,
   "id": "33751e5d",
   "metadata": {},
   "outputs": [],
   "source": [
    "dn2up_data_feature = np.zeros((0,1890))\n",
    "up2dn_data_feature = np.zeros((0,1890))"
   ]
  },
  {
   "cell_type": "code",
   "execution_count": 188,
   "id": "10162db2",
   "metadata": {},
   "outputs": [],
   "source": [
    "for i in range(1,11):\n",
    "    tmp_name_dn2up = 'f%d_dn2up' %i\n",
    "    tmp_name_up2dn = 'f%d_up2dn' %i\n",
    "    \n",
    "    dn2up_data_feature = np.vstack((dn2up_data_feature, globals()[tmp_name_dn2up]))\n",
    "    up2dn_data_feature = np.vstack((up2dn_data_feature, globals()[tmp_name_up2dn]))"
   ]
  },
  {
   "cell_type": "markdown",
   "id": "5f074fae",
   "metadata": {},
   "source": [
    "# Framing"
   ]
  },
  {
   "cell_type": "code",
   "execution_count": 324,
   "id": "57a09d69",
   "metadata": {},
   "outputs": [],
   "source": [
    "dn2up_data_fram = np.zeros((0,len(dn2up_data),10))\n",
    "up2dn_data_fram = np.zeros((0,len(up2dn_data),10))\n",
    "dn2up_data_fram_feature = np.zeros((0,100))\n",
    "up2dn_data_fram_feature = np.zeros((0,100))\n",
    "\n",
    "dn2up_label_fram = np.zeros(0)\n",
    "up2dn_label_fram = np.zeros(0)"
   ]
  },
  {
   "cell_type": "code",
   "execution_count": 323,
   "id": "527d1584",
   "metadata": {},
   "outputs": [],
   "source": [
    "overlap_index = []"
   ]
  },
  {
   "cell_type": "code",
   "execution_count": 325,
   "id": "4d1a52b4",
   "metadata": {},
   "outputs": [],
   "source": [
    "for i in range(int(len(dn2up_data[0])/10)):    # /100m\n",
    "    tmp = np.linspace(i*100,(i+1)*100-10,10,dtype=int)\n",
    "    count = 0\n",
    "    for j in tmp:\n",
    "        \n",
    "        if j in dn2up_label:\n",
    "            count += 1\n",
    "            if j % 100 == 0:\n",
    "                overlap = 6\n",
    "                overlap_index.append([i,overlap])\n",
    "                for y in range(int((i-0.7)*10),int((i-0.7)*10)+overlap):   # number of overlapping：6\n",
    "                    tmp_data = dn2up_data[:,y:y+10].reshape(1,len(dn2up_data),10)\n",
    "                    dn2up_data_fram = np.vstack((dn2up_data_fram,tmp_data))\n",
    "                    \n",
    "                    loc = np.argwhere(dn2up_label[0]==j)\n",
    "                    dn2up_label_fram = np.hstack((dn2up_label_fram,dn2up_label[1][loc[0][0]]))\n",
    "            else:\n",
    "                overlap = int(j/10) - i*10\n",
    "                overlap_index.append([i,overlap])\n",
    "                for y in range(i*10, int(j/10)):\n",
    "                    tmp_data = dn2up_data[:,y:y+10].reshape(1,len(dn2up_data),10)\n",
    "                    dn2up_data_fram = np.vstack((dn2up_data_fram,tmp_data))\n",
    "\n",
    "                    loc = np.argwhere(dn2up_label[0]==j)\n",
    "                    dn2up_label_fram = np.hstack((dn2up_label_fram,dn2up_label[1][loc[0][0]]))\n",
    "        else:\n",
    "            continue\n",
    "            \n",
    "    if count == 0:\n",
    "        tmp_data = dn2up_data[:,i*10:i*10+10].reshape(1,len(dn2up_data),10)\n",
    "        dn2up_data_fram = np.vstack((dn2up_data_fram,tmp_data))\n",
    "        dn2up_label_fram = np.hstack((dn2up_label_fram,0))\n",
    "    else:\n",
    "        continue\n"
   ]
  },
  {
   "cell_type": "code",
   "execution_count": 326,
   "id": "318b9d62",
   "metadata": {},
   "outputs": [
    {
     "data": {
      "text/plain": [
       "[[0, 8],\n",
       " [1, 5],\n",
       " [3, 3],\n",
       " [6, 1],\n",
       " [8, 2],\n",
       " [8, 8],\n",
       " [9, 6],\n",
       " [13, 1],\n",
       " [14, 9],\n",
       " [15, 7],\n",
       " [18, 7],\n",
       " [20, 2],\n",
       " [23, 6],\n",
       " [30, 2],\n",
       " [31, 9],\n",
       " [40, 6],\n",
       " [44, 6],\n",
       " [46, 8],\n",
       " [50, 8],\n",
       " [51, 6],\n",
       " [64, 6],\n",
       " [78, 3],\n",
       " [80, 2],\n",
       " [82, 7],\n",
       " [85, 2],\n",
       " [90, 3],\n",
       " [91, 1],\n",
       " [95, 1],\n",
       " [96, 5],\n",
       " [97, 3],\n",
       " [100, 7],\n",
       " [101, 3],\n",
       " [107, 3],\n",
       " [111, 5],\n",
       " [112, 7],\n",
       " [114, 2],\n",
       " [119, 5],\n",
       " [120, 6],\n",
       " [121, 6],\n",
       " [121, 9],\n",
       " [124, 6],\n",
       " [129, 2],\n",
       " [129, 7],\n",
       " [134, 2],\n",
       " [134, 7],\n",
       " [135, 4],\n",
       " [137, 7],\n",
       " [139, 2],\n",
       " [141, 6],\n",
       " [143, 9],\n",
       " [146, 8],\n",
       " [152, 4],\n",
       " [154, 4],\n",
       " [155, 4],\n",
       " [166, 5],\n",
       " [167, 6],\n",
       " [168, 9],\n",
       " [175, 3],\n",
       " [181, 2],\n",
       " [182, 9]]"
      ]
     },
     "execution_count": 326,
     "metadata": {},
     "output_type": "execute_result"
    }
   ],
   "source": [
    "overlap_index"
   ]
  },
  {
   "cell_type": "code",
   "execution_count": 313,
   "id": "96e827d5",
   "metadata": {},
   "outputs": [
    {
     "data": {
      "text/plain": [
       "array([[   80,   150,   330,   610,   820,   880,   960,  1310,  1490,\n",
       "         1570,  1870,  2020,  2360,  3020,  3190,  4000,  4400,  4680,\n",
       "         5080,  5160,  6460,  7830,  8020,  8270,  8520,  9030,  9110,\n",
       "         9510,  9650,  9730, 10070, 10130, 10730, 11150, 11270, 11420,\n",
       "        11950, 12000, 12160, 12190, 12400, 12920, 12970, 13420, 13470,\n",
       "        13540, 13770, 13920, 14100, 14390, 14680, 15240, 15440, 15540,\n",
       "        16650, 16760, 16890, 17530, 18120, 18290, 18990],\n",
       "       [    1,     1,     2,     1,     1,     2,     1,     1,     2,\n",
       "            1,     1,     2,     1,     2,     1,     2,     1,     1,\n",
       "            2,     1,     2,     2,     1,     1,     2,     1,     2,\n",
       "            1,     2,     1,     2,     1,     2,     1,     2,     1,\n",
       "            1,     1,     2,     1,     1,     1,     2,     2,     1,\n",
       "            1,     1,     2,     1,     1,     2,     2,     1,     1,\n",
       "            2,     1,     2,     2,     1,     2,     2]])"
      ]
     },
     "execution_count": 313,
     "metadata": {},
     "output_type": "execute_result"
    }
   ],
   "source": [
    "dn2up_label"
   ]
  },
  {
   "cell_type": "code",
   "execution_count": 274,
   "id": "f9ef3510",
   "metadata": {},
   "outputs": [
    {
     "data": {
      "text/plain": [
       "(0, 943, 10)"
      ]
     },
     "execution_count": 274,
     "metadata": {},
     "output_type": "execute_result"
    }
   ],
   "source": [
    "dn2up_data_fram.shape"
   ]
  },
  {
   "cell_type": "code",
   "execution_count": 260,
   "id": "f4fccd24",
   "metadata": {},
   "outputs": [],
   "source": [
    "b = np.ones((1,2,3))"
   ]
  },
  {
   "cell_type": "code",
   "execution_count": 262,
   "id": "db10c07c",
   "metadata": {},
   "outputs": [
    {
     "data": {
      "text/plain": [
       "(2, 2, 3)"
      ]
     },
     "execution_count": 262,
     "metadata": {},
     "output_type": "execute_result"
    }
   ],
   "source": [
    "np.vstack((a,b)).shape"
   ]
  },
  {
   "cell_type": "code",
   "execution_count": 263,
   "id": "228ae939",
   "metadata": {},
   "outputs": [],
   "source": [
    "c = np.ones((2,3))"
   ]
  },
  {
   "cell_type": "code",
   "execution_count": 265,
   "id": "3f915d9f",
   "metadata": {},
   "outputs": [],
   "source": [
    "c.resize(1,2,3)"
   ]
  },
  {
   "cell_type": "code",
   "execution_count": null,
   "id": "c173a6a7",
   "metadata": {},
   "outputs": [],
   "source": []
  }
 ],
 "metadata": {
  "kernelspec": {
   "display_name": "Python 3",
   "language": "python",
   "name": "python3"
  },
  "language_info": {
   "codemirror_mode": {
    "name": "ipython",
    "version": 3
   },
   "file_extension": ".py",
   "mimetype": "text/x-python",
   "name": "python",
   "nbconvert_exporter": "python",
   "pygments_lexer": "ipython3",
   "version": "3.8.8"
  },
  "varInspector": {
   "cols": {
    "lenName": 16,
    "lenType": 16,
    "lenVar": 40
   },
   "kernels_config": {
    "python": {
     "delete_cmd_postfix": "",
     "delete_cmd_prefix": "del ",
     "library": "var_list.py",
     "varRefreshCmd": "print(var_dic_list())"
    },
    "r": {
     "delete_cmd_postfix": ") ",
     "delete_cmd_prefix": "rm(",
     "library": "var_list.r",
     "varRefreshCmd": "cat(var_dic_list()) "
    }
   },
   "position": {
    "height": "422.713px",
    "left": "918.901px",
    "right": "20px",
    "top": "542.889px",
    "width": "610.966px"
   },
   "types_to_exclude": [
    "module",
    "function",
    "builtin_function_or_method",
    "instance",
    "_Feature"
   ],
   "window_display": true
  }
 },
 "nbformat": 4,
 "nbformat_minor": 5
}
