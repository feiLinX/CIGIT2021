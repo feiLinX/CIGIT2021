{
 "cells": [
  {
   "cell_type": "code",
   "execution_count": 1,
   "id": "9c977306",
   "metadata": {},
   "outputs": [],
   "source": [
    "import numpy as np\n",
    "import csv"
   ]
  },
  {
   "cell_type": "code",
   "execution_count": 3,
   "id": "030e492d",
   "metadata": {},
   "outputs": [],
   "source": [
    "ROOT = '/home/rick/PythonWorkplace/CIGIT2021/data/622/split/'\n",
    "filename = '2020-05-01_BP2853_1_2.csv'\n",
    "data = ROOT + filename"
   ]
  },
  {
   "cell_type": "code",
   "execution_count": 4,
   "id": "b1514b4f",
   "metadata": {},
   "outputs": [
    {
     "data": {
      "text/plain": [
       "'/home/rick/PythonWorkplace/CIGIT2021/data/622/split/2020-05-01_BP2853_1_2.csv'"
      ]
     },
     "execution_count": 4,
     "metadata": {},
     "output_type": "execute_result"
    }
   ],
   "source": [
    "with open(data, 'r') as f:\n",
    "    reader = csv.reader(f)\n",
    "    for row in reader:\n",
    "        print"
   ]
  },
  {
   "cell_type": "code",
   "execution_count": null,
   "id": "f540cf26",
   "metadata": {},
   "outputs": [],
   "source": []
  }
 ],
 "metadata": {
  "kernelspec": {
   "display_name": "Python 3",
   "language": "python",
   "name": "python3"
  },
  "language_info": {
   "codemirror_mode": {
    "name": "ipython",
    "version": 3
   },
   "file_extension": ".py",
   "mimetype": "text/x-python",
   "name": "python",
   "nbconvert_exporter": "python",
   "pygments_lexer": "ipython3",
   "version": "3.8.8"
  }
 },
 "nbformat": 4,
 "nbformat_minor": 5
}
