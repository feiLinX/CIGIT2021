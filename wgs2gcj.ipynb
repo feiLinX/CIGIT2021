{
 "cells": [
  {
   "cell_type": "code",
   "execution_count": 1,
   "id": "b5e3b367",
   "metadata": {},
   "outputs": [],
   "source": [
    "import numpy as np\n",
    "import csv\n",
    "import math\n",
    "from math import sin, cos, sqrt, fabs, atan2"
   ]
  },
  {
   "cell_type": "code",
   "execution_count": 2,
   "id": "e0506b32",
   "metadata": {},
   "outputs": [],
   "source": [
    "ROOT = '/home/rick/PythonWorkplace/CIGIT2021/data/622/weekend/split'\n",
    "filename = '2020-05-01_BP2853_1_2.csv'\n",
    "data = ROOT + '/' + filename"
   ]
  },
  {
   "cell_type": "code",
   "execution_count": 3,
   "id": "fbc94f03",
   "metadata": {},
   "outputs": [],
   "source": [
    "longi = np.zeros(300)\n",
    "lati = np.zeros(300)"
   ]
  },
  {
   "cell_type": "code",
   "execution_count": 54,
   "id": "44e964d6",
   "metadata": {},
   "outputs": [],
   "source": [
    "with open(data, 'r', encoding='gbk') as f:\n",
    "    reader = csv.reader(f)\n",
    "    count = 0\n",
    "    for row in reader:\n",
    "        tmp_longi = float(row[2])\n",
    "        tmp_lati = float(row[1])\n",
    "        longi[count] = tmp_longi\n",
    "        lati[count] = tmp_lati\n",
    "        count += 1\n",
    "longi = longi[:count]\n",
    "lati = lati[:count]\n",
    "wgs_coord = list(zip(longi,lati))"
   ]
  },
  {
   "cell_type": "markdown",
   "id": "1cd3d22e",
   "metadata": {},
   "source": [
    "# wgs84 to gcj02"
   ]
  },
  {
   "cell_type": "code",
   "execution_count": 4,
   "id": "b554616d",
   "metadata": {},
   "outputs": [],
   "source": [
    "def geohey_transformLon(x, y):\n",
    "    ret = 300.0 + x + 2.0 * y + 0.1 * x * x +  0.1 * x * y + 0.1 * sqrt(fabs(x))\n",
    "    ret = ret + (20.0 * sin(6.0 * x * np.pi) + 20.0 * sin(2.0 * x * np.pi)) * 2.0 / 3.0\n",
    "    ret = ret + (20.0 * sin(x * np.pi) + 40.0 * sin(x / 3.0 * np.pi)) * 2.0 / 3.0\n",
    "    ret = ret + (150.0 * sin(x / 12.0 * np.pi) + 300.0 * sin(x * np.pi / 30.0)) * 2.0 / 3.0\n",
    "    return ret"
   ]
  },
  {
   "cell_type": "code",
   "execution_count": 5,
   "id": "4db1ad15",
   "metadata": {},
   "outputs": [],
   "source": [
    "def geohey_transformLat(x, y):\n",
    "    ret = -100.0 + 2.0 * x + 3.0 * y + 0.2 * y * y + 0.1 * x * y + 0.2 * sqrt(fabs(x))\n",
    "    ret = ret + (20.0 * sin(6.0 * x * np.pi) + 20.0 * sin(2.0 * x * np.pi)) * 2.0 / 3.0\n",
    "    ret = ret + (20.0 * sin(y * np.pi) + 40.0 * sin(y / 3.0 * np.pi)) * 2.0 / 3.0\n",
    "    ret = ret + (160.0 * sin(y / 12.0 * np.pi) + 320.0 * sin(y * np.pi / 30.0)) * 2.0 / 3.0\n",
    "    return ret"
   ]
  },
  {
   "cell_type": "code",
   "execution_count": 6,
   "id": "85fed030",
   "metadata": {},
   "outputs": [],
   "source": [
    "# define ellipsoid\n",
    "a = 6378245.0\n",
    "f = 1 / 298.3\n",
    "b = a * (1 - f)\n",
    "ee = 1 - (b * b) / (a * a)"
   ]
  },
  {
   "cell_type": "code",
   "execution_count": 7,
   "id": "7c9d8726",
   "metadata": {},
   "outputs": [],
   "source": [
    "def wgs2gcj(wgs_longi, wgs_lati):\n",
    "    d_lati = geohey_transformLat(wgs_longi - 105.0, wgs_lati - 35.0)\n",
    "    d_longi = geohey_transformLon(wgs_longi - 105.0, wgs_lati - 35.0)\n",
    "    rad_lati = wgs_lati / 180 * np.pi\n",
    "    magic = sin(rad_lati)\n",
    "    magic = 1 - ee * magic * magic\n",
    "    sqrtMagic = sqrt(magic)\n",
    "    d_lati = (d_lati * 180.0) / ((a * (1 - ee)) / (magic * sqrtMagic) * np.pi)\n",
    "    d_longi = (d_longi * 180.0) / (a / sqrtMagic * cos(rad_lati) * np.pi)\n",
    "    gcj_lati = wgs_lati + d_lati\n",
    "    gcj_longi = wgs_longi + d_longi\n",
    "    return (gcj_longi, gcj_lati)"
   ]
  },
  {
   "cell_type": "code",
   "execution_count": 8,
   "id": "47864599",
   "metadata": {},
   "outputs": [],
   "source": [
    "output = wgs2gcj(longi[36], lati[36])"
   ]
  },
  {
   "cell_type": "code",
   "execution_count": 10,
   "id": "0114b1ca",
   "metadata": {},
   "outputs": [
    {
     "data": {
      "text/plain": [
       "0.0027284583222547923"
      ]
     },
     "execution_count": 10,
     "metadata": {},
     "output_type": "execute_result"
    }
   ],
   "source": [
    "output[1]"
   ]
  },
  {
   "cell_type": "code",
   "execution_count": 47,
   "id": "06fa50b4",
   "metadata": {},
   "outputs": [],
   "source": [
    "wgs_coord = list(zip(longi,lati))"
   ]
  },
  {
   "cell_type": "code",
   "execution_count": 50,
   "id": "3746d7ce",
   "metadata": {},
   "outputs": [
    {
     "data": {
      "text/plain": [
       "(106.549468, 29.634811)"
      ]
     },
     "execution_count": 50,
     "metadata": {},
     "output_type": "execute_result"
    }
   ],
   "source": [
    "wgs_coord[0]"
   ]
  },
  {
   "cell_type": "code",
   "execution_count": 31,
   "id": "fd57c6bb",
   "metadata": {},
   "outputs": [
    {
     "data": {
      "text/plain": [
       "29.642086"
      ]
     },
     "execution_count": 31,
     "metadata": {},
     "output_type": "execute_result"
    }
   ],
   "source": [
    "lati[20]"
   ]
  },
  {
   "cell_type": "code",
   "execution_count": 43,
   "id": "d93f2a8c",
   "metadata": {},
   "outputs": [],
   "source": [
    "x = [1,2,3]\n",
    "y =[4,5,6] \n",
    "z = zip(x,y)"
   ]
  },
  {
   "cell_type": "code",
   "execution_count": 44,
   "id": "3bf2cb92",
   "metadata": {},
   "outputs": [],
   "source": [
    "z = list(z)"
   ]
  },
  {
   "cell_type": "code",
   "execution_count": 46,
   "id": "3c096efb",
   "metadata": {},
   "outputs": [
    {
     "data": {
      "text/plain": [
       "(1, 4)"
      ]
     },
     "execution_count": 46,
     "metadata": {},
     "output_type": "execute_result"
    }
   ],
   "source": [
    "z[0]"
   ]
  },
  {
   "cell_type": "code",
   "execution_count": null,
   "id": "ddeac3d4",
   "metadata": {},
   "outputs": [],
   "source": []
  }
 ],
 "metadata": {
  "kernelspec": {
   "display_name": "Python 3",
   "language": "python",
   "name": "python3"
  },
  "language_info": {
   "codemirror_mode": {
    "name": "ipython",
    "version": 3
   },
   "file_extension": ".py",
   "mimetype": "text/x-python",
   "name": "python",
   "nbconvert_exporter": "python",
   "pygments_lexer": "ipython3",
   "version": "3.8.8"
  },
  "varInspector": {
   "cols": {
    "lenName": 16,
    "lenType": 16,
    "lenVar": 40
   },
   "kernels_config": {
    "python": {
     "delete_cmd_postfix": "",
     "delete_cmd_prefix": "del ",
     "library": "var_list.py",
     "varRefreshCmd": "print(var_dic_list())"
    },
    "r": {
     "delete_cmd_postfix": ") ",
     "delete_cmd_prefix": "rm(",
     "library": "var_list.r",
     "varRefreshCmd": "cat(var_dic_list()) "
    }
   },
   "oldHeight": 431.69142800000003,
   "position": {
    "height": "483.691px",
    "left": "798.389px",
    "right": "20px",
    "top": "129.977px",
    "width": "509.017px"
   },
   "types_to_exclude": [
    "module",
    "function",
    "builtin_function_or_method",
    "instance",
    "_Feature"
   ],
   "varInspector_section_display": "block",
   "window_display": true
  }
 },
 "nbformat": 4,
 "nbformat_minor": 5
}
